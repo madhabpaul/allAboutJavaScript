{
  "nbformat": 4,
  "nbformat_minor": 0,
  "metadata": {
    "colab": {
      "name": "Javascript_Fundamentals_day1.txt",
      "provenance": [],
      "authorship_tag": "ABX9TyMv+UTrmNBOhHPnnzCQWNzb"
    },
    "kernelspec": {
      "name": "python3",
      "display_name": "Python 3"
    }
  },
  "cells": [
    {
      "cell_type": "code",
      "metadata": {
        "id": "QF74eA9lRkcl",
        "colab_type": "code",
        "colab": {}
      },
      "source": [
        "%%js\n",
        "alert(\"Hello World\");"
      ],
      "execution_count": 0,
      "outputs": []
    },
    {
      "cell_type": "markdown",
      "metadata": {
        "id": "575sYoQmje24",
        "colab_type": "text"
      },
      "source": [
        "**Variable** \n",
        "\n",
        "---\n",
        "\n",
        "\n",
        "To create a variable in JavaScript, use the **let** keyword."
      ]
    },
    {
      "cell_type": "code",
      "metadata": {
        "id": "ThzF6pJhjqoT",
        "colab_type": "code",
        "colab": {}
      },
      "source": [
        "let message;\n",
        "message = \"Hello World\";\n",
        "alert(message);\n",
        "\n",
        "//We can also declare multiple variables in one line:\n",
        "\n",
        "let user = 'John', age = 25, message = 'Hello';"
      ],
      "execution_count": 0,
      "outputs": []
    },
    {
      "cell_type": "markdown",
      "metadata": {
        "id": "W4bOgIgfke_E",
        "colab_type": "text"
      },
      "source": [
        "In older scripts, you may also find another keyword: **var** instead of **let**:\n",
        "\n",
        "   **var** message = 'Hello';\n",
        "\n",
        "The **var** keyword is almost the same as **let**.\n"
      ]
    },
    {
      "cell_type": "code",
      "metadata": {
        "id": "d3Y6BJ64kvsS",
        "colab_type": "code",
        "colab": {}
      },
      "source": [
        "let message;\n",
        "\n",
        "message = 'Hello!';\n",
        "\n",
        "message = 'World!'; // value changed\n",
        "\n",
        "alert(message);"
      ],
      "execution_count": 0,
      "outputs": []
    },
    {
      "cell_type": "code",
      "metadata": {
        "id": "eZWne6wBlvzX",
        "colab_type": "code",
        "colab": {}
      },
      "source": [
        "let hello = 'Hello world!';\n",
        "\n",
        "let message;\n",
        "\n",
        "// copy 'Hello world' from hello into message\n",
        "message = hello;\n",
        "\n",
        "// now two variables hold the same data\n",
        "alert(hello); // Hello world!\n",
        "alert(message); // Hello world!"
      ],
      "execution_count": 0,
      "outputs": []
    },
    {
      "cell_type": "markdown",
      "metadata": {
        "id": "I6uuNIiwmoF6",
        "colab_type": "text"
      },
      "source": [
        "**Functional languages**\n",
        "\n",
        "---\n",
        "\n",
        "\n",
        "\n",
        "It’s interesting to note that there exist functional programming languages, like Scala or Erlang that forbid changing variable values.\n",
        "\n",
        "In such languages, once the value is stored “in the box”, it’s there forever. If we need to store something else, the language forces us to create a new box (declare a new variable). We can’t reuse the old one.\n",
        "\n",
        "Though it may seem a little odd at first sight, these languages are quite capable of serious development. More than that, there are areas like parallel computations where this limitation confers certain benefits. Studying such a [link text](https://)language (even if you’re not planning to use it soon) is recommended to broaden the mind."
      ]
    },
    {
      "cell_type": "markdown",
      "metadata": {
        "id": "fmxNSZROnUNG",
        "colab_type": "text"
      },
      "source": [
        "**Variable naming**\n",
        "\n",
        "---\n",
        "\n",
        "\n",
        "\n",
        "There are two limitations on variable names in JavaScript:\n",
        "\n",
        "1.   The name must contain only letters, digits, or the symbols $ and _.\n",
        "2.   The first character must not be a digit."
      ]
    },
    {
      "cell_type": "code",
      "metadata": {
        "id": "ZZ8Q65RTUyFv",
        "colab_type": "code",
        "colab": {}
      },
      "source": [
        "let $ = 1; // declared a variable with the name \"$\"\n",
        "let _ = 2; // and now a variable with the name \"_\"\n",
        "\n",
        "alert($ + _); // 3\n",
        "let 1a; // cannot start with a digit\n",
        "\n",
        "let my-name; // hyphens '-' aren't allowed in the name"
      ],
      "execution_count": 0,
      "outputs": []
    },
    {
      "cell_type": "markdown",
      "metadata": {
        "id": "VWsyA3UdVc3e",
        "colab_type": "text"
      },
      "source": [
        "### **An assignment without** *use strict*\n",
        "\n",
        "---\n",
        "\n",
        "\n",
        "Normally, we need to define a variable before using it. But in the old times, it was technically possible to create a variable by a mere assignment of the value without using let. This still works now if we don’t put use strict in our scripts to maintain compatibility with old scripts"
      ]
    },
    {
      "cell_type": "code",
      "metadata": {
        "id": "-8NvM_XyVh8Q",
        "colab_type": "code",
        "colab": {}
      },
      "source": [
        "// note: no \"use strict\" in this example\n",
        "\n",
        "num = 5; // the variable \"num\" is created if it didn't exist\n",
        "\n",
        "alert(num); // 5"
      ],
      "execution_count": 0,
      "outputs": []
    },
    {
      "cell_type": "markdown",
      "metadata": {
        "id": "mLBiWe5PVmaI",
        "colab_type": "text"
      },
      "source": [
        "This is a bad practice and would cause an error in strict mode:"
      ]
    },
    {
      "cell_type": "code",
      "metadata": {
        "colab_type": "code",
        "id": "3uu7Ar2kZc16",
        "colab": {}
      },
      "source": [
        "const myBirthday = '18.04.1982';\n",
        "\n",
        "myBirthday = '01.01.2001'; // error, can't reassign the constant!"
      ],
      "execution_count": 0,
      "outputs": []
    },
    {
      "cell_type": "markdown",
      "metadata": {
        "id": "WEq7CfsGZ3WH",
        "colab_type": "text"
      },
      "source": [
        "**Datatypes**\n",
        "\n",
        "---\n",
        "\n",
        "\n",
        "A variable in JavaScript can contain any data. A variable can at one moment be a string and at another be a number\n",
        "\n",
        "Programming languages that allow such things are called “dynamically typed”, meaning that there are data types, but variables are not bound to any of them.\n",
        "\n",
        "There are eight basic data types in JavaScript.\n",
        "\n",
        "`number` for numbers of any kind: integer or floating-point, integers are limited by ±253.\n",
        "\n",
        "`bigint` is for integer numbers of arbitrary length.\n",
        "\n",
        "`string` for strings. A string may have one or more characters, there’s no separate single-character type.\n",
        "\n",
        "`boolean` for true/false.\n",
        "\n",
        "`null` for unknown values – a standalone type that has a single value null.\n",
        "\n",
        "`undefined` for unassigned values – a standalone type that has a single value undefined.\n",
        "\n",
        "`object` for more complex data structures.\n",
        "\n",
        "`symbol` for unique identifiers.\n",
        "\n",
        "The `typeof` operator allows us to see which type is stored in a variable."
      ]
    },
    {
      "cell_type": "markdown",
      "metadata": {
        "id": "Zk5Xfz_IaTz-",
        "colab_type": "text"
      },
      "source": [
        "1. **Number**\n",
        "\n",
        "---\n",
        "The number type represents both integer and floating point numbers.\n",
        "\n",
        "There are many operations for numbers, e.g. multiplication *, division /, addition +, subtraction -, and so on.\n",
        "\n",
        "Besides regular numbers, there are so-called “special numeric values” which also belong to this data type: Infinity, -Infinity and NaN.\n",
        "\n",
        "Infinity represents the mathematical Infinity ∞. It is a special value that’s greater than any number.\n",
        "\n",
        "We can get it as a result of division by zero:\n",
        "\n"
      ]
    },
    {
      "cell_type": "code",
      "metadata": {
        "id": "1hZKUATGbY6J",
        "colab_type": "code",
        "colab": {}
      },
      "source": [
        "alert( 1 / 0 ); // Infinity\n",
        "Or just reference it directly:\n",
        "\n",
        "alert( Infinity ); // Infinity"
      ],
      "execution_count": 0,
      "outputs": []
    },
    {
      "cell_type": "markdown",
      "metadata": {
        "id": "AHbtNP0sbgGn",
        "colab_type": "text"
      },
      "source": [
        "NaN represents a computational error. It is a result of an incorrect or an undefined mathematical operation, for instance:"
      ]
    },
    {
      "cell_type": "code",
      "metadata": {
        "id": "oMW-qEzobmVS",
        "colab_type": "code",
        "colab": {}
      },
      "source": [
        "alert( \"not a number\" / 2 ); // NaN, such division is erroneous"
      ],
      "execution_count": 0,
      "outputs": []
    },
    {
      "cell_type": "markdown",
      "metadata": {
        "id": "-Qu0wXUxcJ6O",
        "colab_type": "text"
      },
      "source": [
        "2. **BigInt**\n",
        "\n",
        "---\n",
        "\n",
        "\n",
        "In JavaScript, the “number” type cannot represent integer values larger than 253 (or less than -253 for negatives), that’s a technical limitation caused by their internal representation. That’s about 16 decimal digits, so for most purposes the limitation isn’t a problem, but sometimes we need really big numbers, e.g. for cryptography or microsecond-precision timestamps.\n",
        "\n",
        "**BigInt** type was recently added to the language to represent integers of arbitrary length.\n",
        "\n",
        "A **BigInt** is created by appending n to the end of an integer literal\n",
        "Right now BigInt is supported in Firefox and Chrome, but not in Safari/IE/Edge.\n",
        "\n"
      ]
    },
    {
      "cell_type": "code",
      "metadata": {
        "id": "Wfa1swaAcV7w",
        "colab_type": "code",
        "colab": {}
      },
      "source": [
        "// the \"n\" at the end means it's a BigInt\n",
        "const bigInt = 1234567890123456789012345678901234567890n;"
      ],
      "execution_count": 0,
      "outputs": []
    },
    {
      "cell_type": "markdown",
      "metadata": {
        "id": "-N6ZsBsQc36v",
        "colab_type": "text"
      },
      "source": [
        "3. **String**\n",
        "\n",
        "---\n",
        "\n",
        "\n",
        "A string in JavaScript must be surrounded by quotes.\n",
        "\n",
        "In JavaScript, there are 3 types of quotes.\n",
        "\n",
        "1. Double quotes: \"Hello\".\n",
        "2. Single quotes: 'Hello'.\n",
        "3. Backticks: **`Hello`**.``"
      ]
    },
    {
      "cell_type": "code",
      "metadata": {
        "id": "-5x7meODdC9P",
        "colab_type": "code",
        "colab": {}
      },
      "source": [
        "let str = \"Hello\";\n",
        "let str2 = 'Single quotes are ok too';\n",
        "let phrase = `can embed another ${str}`;"
      ],
      "execution_count": 0,
      "outputs": []
    },
    {
      "cell_type": "markdown",
      "metadata": {
        "id": "yFkNKFiUdbY1",
        "colab_type": "text"
      },
      "source": [
        "Double and single quotes are “simple” quotes. There’s practically no difference between them in JavaScript.\n",
        "\n",
        "Backticks are “extended functionality” quotes. They allow us to embed variables and expressions into a string by wrapping them in ${…}, for example:"
      ]
    },
    {
      "cell_type": "code",
      "metadata": {
        "id": "Nb_K8VmRdc_U",
        "colab_type": "code",
        "colab": {}
      },
      "source": [
        "let name = \"John\";\n",
        "\n",
        "// embed a variable\n",
        "alert( `Hello, ${name}!` ); // Hello, John!\n",
        "\n",
        "// embed an expression\n",
        "alert( `the result is ${1 + 2}` ); // the result is 3"
      ],
      "execution_count": 0,
      "outputs": []
    },
    {
      "cell_type": "markdown",
      "metadata": {
        "id": "PYQkF_IyeoNw",
        "colab_type": "text"
      },
      "source": [
        "4. **Boolean (logical type)**\n",
        "\n",
        "---\n",
        "\n",
        "\n",
        "The boolean type has only two values: true and false.\n",
        "\n",
        "This type is commonly used to store yes/no values: true means “yes, correct”, and false means “no, incorrect”.\n",
        "\n",
        "For instance:"
      ]
    },
    {
      "cell_type": "code",
      "metadata": {
        "id": "y_LEDv9verEO",
        "colab_type": "code",
        "colab": {}
      },
      "source": [
        "let nameFieldChecked = true; // yes, name field is checked\n",
        "let ageFieldChecked = false; // no, age field is not checked"
      ],
      "execution_count": 0,
      "outputs": []
    },
    {
      "cell_type": "markdown",
      "metadata": {
        "id": "-skVpX49etxu",
        "colab_type": "text"
      },
      "source": [
        "Boolean values also come as a result of comparisons:"
      ]
    },
    {
      "cell_type": "code",
      "metadata": {
        "id": "HEJJ64wpevZJ",
        "colab_type": "code",
        "colab": {}
      },
      "source": [
        "let isGreater = 4 > 1;\n",
        "\n",
        "alert( isGreater ); // true (the comparison result is \"yes\")"
      ],
      "execution_count": 0,
      "outputs": []
    },
    {
      "cell_type": "markdown",
      "metadata": {
        "id": "TM4h89lvfYd1",
        "colab_type": "text"
      },
      "source": [
        "5. The **null** value\n",
        "\n",
        "---\n",
        "\n",
        "\n",
        "The special null value does not belong to any of the types described above.\n",
        "\n",
        "It forms a separate type of its own which contains only the null value:\n",
        "\n"
      ]
    },
    {
      "cell_type": "code",
      "metadata": {
        "id": "tp-e5Wlaf-9O",
        "colab_type": "code",
        "colab": {}
      },
      "source": [
        "let age = null;"
      ],
      "execution_count": 0,
      "outputs": []
    },
    {
      "cell_type": "markdown",
      "metadata": {
        "id": "2C4DXo98f_5n",
        "colab_type": "text"
      },
      "source": [
        "In JavaScript, null is not a “reference to a non-existing object” or a “null pointer” like in some other languages.\n",
        "\n",
        "It’s just a special value which represents “nothing”, “empty” or “value unknown”.\n",
        "\n",
        "The code above states that age is unknown or empty for some reason."
      ]
    },
    {
      "cell_type": "markdown",
      "metadata": {
        "id": "i4yqb_NOioSR",
        "colab_type": "text"
      },
      "source": [
        "6. The “**undefined**” value\n",
        "\n",
        "---\n",
        "\n",
        "\n",
        "The special value undefined also stands apart. It makes a type of its own, just like null.\n",
        "\n",
        "The meaning of undefined is “value is not assigned”.\n",
        "\n",
        "If a variable is declared, but not assigned, then its value is undefined.\n",
        "\n",
        "Normally, we use null to assign an “empty” or “unknown” value to a variable, and we use undefined for checks like seeing if a variable has been assigned."
      ]
    },
    {
      "cell_type": "code",
      "metadata": {
        "id": "dGCNrZ6siulM",
        "colab_type": "code",
        "colab": {}
      },
      "source": [
        "let x;\n",
        "\n",
        "alert(x); // shows \"undefined\"\n",
        "\n",
        "let x = 123;\n",
        "\n",
        "x = undefined;\n",
        "\n",
        "alert(x); // \"undefined\""
      ],
      "execution_count": 0,
      "outputs": []
    },
    {
      "cell_type": "markdown",
      "metadata": {
        "id": "uoy98PRXi7x8",
        "colab_type": "text"
      },
      "source": [
        "7. **Objects and Symbols**\n",
        "\n",
        "---\n",
        "\n",
        "\n",
        "The `object` type is special.\n",
        "\n",
        "All other types are called “primitive” because their values can contain only a single thing (be it a string or a number or whatever). In contrast, objects are used to store collections of data and more complex entities.\n",
        "\n",
        "The `symbol` type is used to create unique identifiers for objects."
      ]
    },
    {
      "cell_type": "markdown",
      "metadata": {
        "id": "oifz2yRZoxMI",
        "colab_type": "text"
      },
      "source": [
        "8. **The typeof operator**\n",
        "\n",
        "---\n",
        "\n",
        "\n",
        "The `typeof` operator returns the type of the argument. It’s useful when we want to process values of different types differently or just want to do a quick check.\n",
        "\n",
        "It supports two forms of syntax:\n",
        "\n",
        "As an operator: typeof x.\n",
        "\n",
        "As a function: typeof(x).\n",
        "\n",
        "In other words, it works with parentheses or without them. The result is the same.\n",
        "\n",
        "The call to typeof x returns a string with the type name:"
      ]
    },
    {
      "cell_type": "code",
      "metadata": {
        "id": "BjWs0H_0pcWN",
        "colab_type": "code",
        "colab": {}
      },
      "source": [
        "typeof undefined // \"undefined\"\n",
        "\n",
        "typeof 0 // \"number\"\n",
        "\n",
        "typeof 10n // \"bigint\"\n",
        "\n",
        "typeof true // \"boolean\"\n",
        "\n",
        "typeof \"foo\" // \"string\"\n",
        "\n",
        "typeof Symbol(\"id\") // \"symbol\"\n",
        "\n",
        "typeof Math // \"object\"  Math is a built-in object that provides mathematical operations. We will learn it in the chapter Numbers. Here, it serves just as an example of an object.\n",
        "\n",
        "typeof null // \"object\"  The result of typeof null is \"object\". That’s wrong. It is an officially recognized error in typeof, kept for compatibility. Of course, null is not an object. It is a special value with a separate type of its own. So, again, this is an error in the language.\n",
        "\n",
        "typeof alert // \"function\"  The result of typeof alert is \"function\", because alert is a function."
      ],
      "execution_count": 0,
      "outputs": []
    },
    {
      "cell_type": "markdown",
      "metadata": {
        "id": "WM0558HQscIn",
        "colab_type": "text"
      },
      "source": [
        "**Type Conversions**\n",
        "\n",
        "---\n",
        "\n",
        "\n",
        "Most of the time, operators and functions automatically convert the values given to them to the right type.\n",
        "\n",
        "For example, alert automatically converts any value to a string to show it. Mathematical operations convert values to numbers.\n",
        "\n",
        "There are also cases when we need to explicitly convert a value to the expected type."
      ]
    },
    {
      "cell_type": "markdown",
      "metadata": {
        "id": "BD7uAXZctFbz",
        "colab_type": "text"
      },
      "source": [
        "**String Conversion**"
      ]
    },
    {
      "cell_type": "code",
      "metadata": {
        "id": "5MM_P2dltHbg",
        "colab_type": "code",
        "colab": {}
      },
      "source": [
        "%%js\n",
        "let value = true;\n",
        "alert(typeof value); // boolean\n",
        "\n",
        "value = String(value); // now value is a string \"true\"\n",
        "alert(typeof value); // string"
      ],
      "execution_count": 0,
      "outputs": []
    },
    {
      "cell_type": "markdown",
      "metadata": {
        "id": "MtwElh71uJZV",
        "colab_type": "text"
      },
      "source": [
        "**Numeric Conversion**\n",
        "\n",
        "Numeric conversion happens in mathematical functions and expressions automatically.\n",
        "\n",
        "For example, when division / is applied to non-numbers:"
      ]
    },
    {
      "cell_type": "code",
      "metadata": {
        "id": "3rNxHzImuPu5",
        "colab_type": "code",
        "colab": {}
      },
      "source": [
        "alert( \"6\" / \"2\" ); // 3, strings are converted to numbers\n",
        "\n",
        "let str = \"123\";\n",
        "alert(typeof str); // string\n",
        "\n",
        "let num = Number(str); // becomes a number 123\n",
        "\n",
        "alert(typeof num); // number"
      ],
      "execution_count": 0,
      "outputs": []
    },
    {
      "cell_type": "markdown",
      "metadata": {
        "id": "ugvG_KlSufdY",
        "colab_type": "text"
      },
      "source": [
        "Explicit conversion is usually required when we read a value from a string-based source like a text form but expect a number to be entered.\n",
        "\n",
        "If the string is not a valid number, the result of such a conversion is NaN. For instance:"
      ]
    },
    {
      "cell_type": "code",
      "metadata": {
        "id": "iLi86uWZuiLz",
        "colab_type": "code",
        "colab": {}
      },
      "source": [
        "let age = Number(\"an arbitrary string instead of a number\");\n",
        "\n",
        "alert(age); // NaN, conversion failed"
      ],
      "execution_count": 0,
      "outputs": []
    },
    {
      "cell_type": "markdown",
      "metadata": {
        "id": "LPfh4AD0usxt",
        "colab_type": "text"
      },
      "source": [
        "**Numeric conversion rules:**\n",
        "\n",
        "Value----------------Becomes\n",
        "\n",
        "undefined--------\t   NaN\n",
        "\n",
        "null------------------\t0\n",
        "\n",
        "true and false--1 and 0\n",
        "\n",
        "string----------------Whitespaces from the start and end are removed. If the remaining string is empty, the result is 0. \n",
        "\n",
        "Otherwise, the number is “read” from the string. An error gives NaN."
      ]
    },
    {
      "cell_type": "code",
      "metadata": {
        "id": "ERN-j0v5ve3v",
        "colab_type": "code",
        "colab": {}
      },
      "source": [
        "alert( Number(\"   123   \") ); // 123\n",
        "alert( Number(\"123z\") );      // NaN (error reading a number at \"z\")\n",
        "alert( Number(true) );        // 1\n",
        "alert( Number(false) );       // 0"
      ],
      "execution_count": 0,
      "outputs": []
    },
    {
      "cell_type": "markdown",
      "metadata": {
        "id": "AkzfNWFAvsW9",
        "colab_type": "text"
      },
      "source": [
        "**Boolean Conversion**\n",
        "\n",
        "The conversion rule:\n",
        "\n",
        "1.Values that are intuitively “empty”, like 0, an empty string, null, undefined, and NaN, become false.\n",
        "\n",
        "\n",
        "2.Other values become true."
      ]
    },
    {
      "cell_type": "code",
      "metadata": {
        "id": "nDpF2zPVv2s5",
        "colab_type": "code",
        "colab": {}
      },
      "source": [
        "alert( Boolean(1) ); // true\n",
        "alert( Boolean(0) ); // false\n",
        "\n",
        "alert( Boolean(\"hello\") ); // true\n",
        "alert( Boolean(\"\") ); // false\n",
        "\n",
        "alert( Boolean(\"0\") ); // true\n",
        "alert( Boolean(\" \") ); // spaces, also true (any non-empty string is true)"
      ],
      "execution_count": 0,
      "outputs": []
    },
    {
      "cell_type": "markdown",
      "metadata": {
        "id": "msct1rT5wJ8-",
        "colab_type": "text"
      },
      "source": [
        "Some languages (namely PHP) treat \"0\" as false. But in JavaScript, a non-empty string is always true."
      ]
    }
  ]
}